{
 "cells": [
  {
   "cell_type": "code",
   "execution_count": 3,
   "metadata": {},
   "outputs": [],
   "source": [
    "import pyspark\n",
    "from pyspark.sql import SparkSession\n",
    "import seaborn as sns\n",
    "import pandas as pd\n",
    "\n",
    "spark = SparkSession.builder \\\n",
    "    .appName(\"MyApp\") \\\n",
    "    .getOrCreate()"
   ]
  },
  {
   "cell_type": "code",
   "execution_count": 4,
   "metadata": {},
   "outputs": [
    {
     "name": "stdout",
     "output_type": "stream",
     "text": [
      "+-----------+-------------------+----------------+-------------+--------+---------------------+--------------+------------+-------+--------------+---+------+-----+\n",
      "|Customer ID|      Purchase Date|Product Category|Product Price|Quantity|Total Purchase Amount|Payment Method|Customer Age|Returns| Customer Name|Age|Gender|Churn|\n",
      "+-----------+-------------------+----------------+-------------+--------+---------------------+--------------+------------+-------+--------------+---+------+-----+\n",
      "|      44605|2023-05-03 21:30:02|            Home|          177|       1|                 2427|        PayPal|          31|    1.0|   John Rivera| 31|Female|    0|\n",
      "|      44605|2021-05-16 13:57:44|     Electronics|          174|       3|                 2448|        PayPal|          31|    1.0|   John Rivera| 31|Female|    0|\n",
      "|      44605|2020-07-13 06:16:57|           Books|          413|       1|                 2345|   Credit Card|          31|    1.0|   John Rivera| 31|Female|    0|\n",
      "|      44605|2023-01-17 13:14:36|     Electronics|          396|       3|                  937|          Cash|          31|    0.0|   John Rivera| 31|Female|    0|\n",
      "|      44605|2021-05-01 11:29:27|           Books|          259|       4|                 2598|        PayPal|          31|    1.0|   John Rivera| 31|Female|    0|\n",
      "|      13738|2022-08-25 06:48:33|            Home|          191|       3|                 3722|   Credit Card|          27|    1.0|Lauren Johnson| 27|Female|    0|\n",
      "|      13738|2023-07-25 05:17:24|     Electronics|          205|       1|                 2773|   Credit Card|          27|   NULL|Lauren Johnson| 27|Female|    0|\n",
      "|      13738|2023-02-05 19:31:48|           Books|          370|       5|                 1486|          Cash|          27|    1.0|Lauren Johnson| 27|Female|    0|\n",
      "|      13738|2021-12-21 03:29:05|            Home|           12|       2|                 2175|          Cash|          27|   NULL|Lauren Johnson| 27|Female|    0|\n",
      "|      13738|2023-02-09 00:53:14|     Electronics|           40|       4|                 4327|          Cash|          27|    0.0|Lauren Johnson| 27|Female|    0|\n",
      "|      33969|2023-02-28 19:58:23|        Clothing|          410|       3|                 5018|   Credit Card|          27|   NULL|   Carol Allen| 27|  Male|    0|\n",
      "|      33969|2023-01-05 11:15:27|            Home|          304|       1|                 3883|        PayPal|          27|    1.0|   Carol Allen| 27|  Male|    0|\n",
      "|      33969|2023-07-18 23:36:50|           Books|           54|       2|                 4187|        PayPal|          27|    0.0|   Carol Allen| 27|  Male|    0|\n",
      "|      33969|2021-12-20 23:44:57|     Electronics|          428|       4|                 2289|          Cash|          27|    0.0|   Carol Allen| 27|  Male|    0|\n",
      "|      33969|2020-03-07 21:31:35|           Books|          281|       1|                 3810|          Cash|          27|    0.0|   Carol Allen| 27|  Male|    0|\n",
      "|      33969|2022-07-21 04:25:44|            Home|          193|       2|                 3198|   Credit Card|          27|    0.0|   Carol Allen| 27|  Male|    0|\n",
      "|      33969|2023-07-05 15:01:04|        Clothing|          473|       3|                 2881|   Credit Card|          27|    1.0|   Carol Allen| 27|  Male|    0|\n",
      "|      42650|2020-10-18 23:38:52|           Books|          127|       5|                 3347|          Cash|          20|    0.0|  Curtis Smith| 20|Female|    0|\n",
      "|      42650|2020-05-17 17:02:36|            Home|          284|       2|                 3531|   Credit Card|          20|    1.0|  Curtis Smith| 20|Female|    0|\n",
      "|      42650|2022-03-18 13:52:08|     Electronics|          256|       2|                 3548|   Credit Card|          20|    0.0|  Curtis Smith| 20|Female|    0|\n",
      "+-----------+-------------------+----------------+-------------+--------+---------------------+--------------+------------+-------+--------------+---+------+-----+\n",
      "only showing top 20 rows\n",
      "\n"
     ]
    }
   ],
   "source": [
    "df = spark.read.csv(\"./originalDataSets/ecommerce_customer_data_large.csv\", header=True, inferSchema=True)\n",
    "df.show()"
   ]
  },
  {
   "cell_type": "code",
   "execution_count": 15,
   "metadata": {},
   "outputs": [
    {
     "name": "stdout",
     "output_type": "stream",
     "text": [
      "+------------+-------------+----------------------+--------------------+-----------------+----------------+--------------------+--------------+----------------+------------------------+\n",
      "|Total Orders|Total Revenue|Earliest Purchase Date|Latest Purchase Date|Total Null Values|Total Categories|     Payment Methods|Orders by Male|Orders by Female|Total Quantities Ordered|\n",
      "+------------+-------------+----------------------+--------------------+-----------------+----------------+--------------------+--------------+----------------+------------------------+\n",
      "|      250000|    681346299|   2020-01-01 00:07:26| 2023-09-13 18:42:49|            47382|               4|[Credit Card, Pay...|        125676|          124324|                  751234|\n",
      "+------------+-------------+----------------------+--------------------+-----------------+----------------+--------------------+--------------+----------------+------------------------+\n",
      "\n"
     ]
    }
   ],
   "source": [
    "from pyspark.sql.functions import col, sum, min, max, count, isnan, when, collect_set, countDistinct\n",
    "from functools import reduce\n",
    "\n",
    "numeric_cols = [c for c, t in df.dtypes if t in ['int', 'double', 'float']]\n",
    "non_numeric_cols = [c for c in df.columns if c not in numeric_cols]\n",
    "total_nulls = reduce(lambda a, b: a + b, [count(when(col(c).isNull() | (isnan(c) if c in numeric_cols else col(c).isNull()), c)) for c in df.columns]).alias(\"Total Null Values\")\n",
    "\n",
    "statistics = df.select(\n",
    "    count(\"*\").alias(\"Total Orders\"),\n",
    "    sum(col(\"Total Purchase Amount\")).alias(\"Total Revenue\"),\n",
    "    min(col(\"Purchase Date\")).alias(\"Earliest Purchase Date\"),\n",
    "    max(col(\"Purchase Date\")).alias(\"Latest Purchase Date\"),\n",
    "    total_nulls,\n",
    "    countDistinct(col(\"Product Category\")).alias(\"Total Categories\"),\n",
    "    collect_set(col(\"Payment Method\")).alias(\"Payment Methods\"),\n",
    "    count(when(col(\"Gender\") == \"Male\", True)).alias(\"Orders by Male\"),\n",
    "    count(when(col(\"Gender\") == \"Female\", True)).alias(\"Orders by Female\"),\n",
    "    sum(col(\"Quantity\")).alias(\"Total Quantities Ordered\")\n",
    ")\n",
    "\n",
    "statistics.show()"
   ]
  }
 ],
 "metadata": {
  "kernelspec": {
   "display_name": "Python 3",
   "language": "python",
   "name": "python3"
  },
  "language_info": {
   "codemirror_mode": {
    "name": "ipython",
    "version": 3
   },
   "file_extension": ".py",
   "mimetype": "text/x-python",
   "name": "python",
   "nbconvert_exporter": "python",
   "pygments_lexer": "ipython3",
   "version": "3.12.7"
  }
 },
 "nbformat": 4,
 "nbformat_minor": 2
}
