{
 "cells": [
  {
   "cell_type": "code",
   "execution_count": null,
   "metadata": {},
   "outputs": [],
   "source": [
    "from pyspark.sql import SparkSession\n",
    "from pyspark.sql.functions import col, when, year, month, dayofweek, lit\n",
    "from pyspark.sql.types import IntegerType, DoubleType\n",
    "import pandas as pd\n",
    "\n",
    "# Initialize Spark Session\n",
    "spark = SparkSession.builder \\\n",
    "    .appName(\"PySpark Example\") \\\n",
    "    .getOrCreate()\n",
    "\n",
    "# Load the dataset\n",
    "df = spark.read.csv(\"ecommerce_customer_data_large.csv\", header=True, inferSchema=True)\n",
    "\n",
    "# Fill null values with 0\n",
    "df = df.fillna(0)\n",
    "\n",
    "# Convert 'Purchase Date' to timestamp\n",
    "df = df.withColumn(\"Purchase Date\", col(\"Purchase Date\").cast(\"timestamp\"))\n",
    "\n",
    "# Extract date components\n",
    "df = df.withColumn(\"year\", year(col(\"Purchase Date\"))) \\\n",
    "       .withColumn(\"month\", month(col(\"Purchase Date\"))) \\\n",
    "       .withColumn(\"dayOfweek\", dayofweek(col(\"Purchase Date\")))\\\n",
    "       .withColumn(\"quarter\", (month(col(\"Purchase Date\")) - 1) // 3 + 1)\n",
    "\n",
    "# Create age ranges\n",
    "df = df.withColumn(\"Age Range\", when(col(\"Age\") <= 18, \"0-18\")\n",
    "                   .when((col(\"Age\") > 18) & (col(\"Age\") <= 30), \"19-30\")\n",
    "                   .when((col(\"Age\") > 30) & (col(\"Age\") <= 40), \"31-40\")\n",
    "                   .when((col(\"Age\") > 40) & (col(\"Age\") <= 50), \"41-50\")\n",
    "                   .when((col(\"Age\") > 50) & (col(\"Age\") <= 60), \"51-60\")\n",
    "                   .otherwise(\"60+\"))\n",
    "\n",
    "# Calculate revenue\n",
    "df = df.withColumn(\"revenue\", col(\"Product Price\") * col(\"Quantity\"))\n"
   ]
  },
  {
   "cell_type": "code",
   "execution_count": 2,
   "metadata": {},
   "outputs": [
    {
     "name": "stdout",
     "output_type": "stream",
     "text": [
      "+-----------+-------------------+----------------+-------------+--------+---------------------+--------------+------------+-------+--------------+---+------+-----+----+-----+---------+---------+-------+\n",
      "|Customer ID|      Purchase Date|Product Category|Product Price|Quantity|Total Purchase Amount|Payment Method|Customer Age|Returns| Customer Name|Age|Gender|Churn|year|month|dayOfweek|Age Range|revenue|\n",
      "+-----------+-------------------+----------------+-------------+--------+---------------------+--------------+------------+-------+--------------+---+------+-----+----+-----+---------+---------+-------+\n",
      "|      44605|2023-05-03 21:30:02|            Home|          177|       1|                 2427|        PayPal|          31|    1.0|   John Rivera| 31|Female|    0|2023|    5|        4|    31-40|    177|\n",
      "|      44605|2021-05-16 13:57:44|     Electronics|          174|       3|                 2448|        PayPal|          31|    1.0|   John Rivera| 31|Female|    0|2021|    5|        1|    31-40|    522|\n",
      "|      44605|2020-07-13 06:16:57|           Books|          413|       1|                 2345|   Credit Card|          31|    1.0|   John Rivera| 31|Female|    0|2020|    7|        2|    31-40|    413|\n",
      "|      44605|2023-01-17 13:14:36|     Electronics|          396|       3|                  937|          Cash|          31|    0.0|   John Rivera| 31|Female|    0|2023|    1|        3|    31-40|   1188|\n",
      "|      44605|2021-05-01 11:29:27|           Books|          259|       4|                 2598|        PayPal|          31|    1.0|   John Rivera| 31|Female|    0|2021|    5|        7|    31-40|   1036|\n",
      "|      13738|2022-08-25 06:48:33|            Home|          191|       3|                 3722|   Credit Card|          27|    1.0|Lauren Johnson| 27|Female|    0|2022|    8|        5|    19-30|    573|\n",
      "|      13738|2023-07-25 05:17:24|     Electronics|          205|       1|                 2773|   Credit Card|          27|    0.0|Lauren Johnson| 27|Female|    0|2023|    7|        3|    19-30|    205|\n",
      "|      13738|2023-02-05 19:31:48|           Books|          370|       5|                 1486|          Cash|          27|    1.0|Lauren Johnson| 27|Female|    0|2023|    2|        1|    19-30|   1850|\n",
      "|      13738|2021-12-21 03:29:05|            Home|           12|       2|                 2175|          Cash|          27|    0.0|Lauren Johnson| 27|Female|    0|2021|   12|        3|    19-30|     24|\n",
      "|      13738|2023-02-09 00:53:14|     Electronics|           40|       4|                 4327|          Cash|          27|    0.0|Lauren Johnson| 27|Female|    0|2023|    2|        5|    19-30|    160|\n",
      "|      33969|2023-02-28 19:58:23|        Clothing|          410|       3|                 5018|   Credit Card|          27|    0.0|   Carol Allen| 27|  Male|    0|2023|    2|        3|    19-30|   1230|\n",
      "|      33969|2023-01-05 11:15:27|            Home|          304|       1|                 3883|        PayPal|          27|    1.0|   Carol Allen| 27|  Male|    0|2023|    1|        5|    19-30|    304|\n",
      "|      33969|2023-07-18 23:36:50|           Books|           54|       2|                 4187|        PayPal|          27|    0.0|   Carol Allen| 27|  Male|    0|2023|    7|        3|    19-30|    108|\n",
      "|      33969|2021-12-20 23:44:57|     Electronics|          428|       4|                 2289|          Cash|          27|    0.0|   Carol Allen| 27|  Male|    0|2021|   12|        2|    19-30|   1712|\n",
      "|      33969|2020-03-07 21:31:35|           Books|          281|       1|                 3810|          Cash|          27|    0.0|   Carol Allen| 27|  Male|    0|2020|    3|        7|    19-30|    281|\n",
      "|      33969|2022-07-21 04:25:44|            Home|          193|       2|                 3198|   Credit Card|          27|    0.0|   Carol Allen| 27|  Male|    0|2022|    7|        5|    19-30|    386|\n",
      "|      33969|2023-07-05 15:01:04|        Clothing|          473|       3|                 2881|   Credit Card|          27|    1.0|   Carol Allen| 27|  Male|    0|2023|    7|        4|    19-30|   1419|\n",
      "|      42650|2020-10-18 23:38:52|           Books|          127|       5|                 3347|          Cash|          20|    0.0|  Curtis Smith| 20|Female|    0|2020|   10|        1|    19-30|    635|\n",
      "|      42650|2020-05-17 17:02:36|            Home|          284|       2|                 3531|   Credit Card|          20|    1.0|  Curtis Smith| 20|Female|    0|2020|    5|        1|    19-30|    568|\n",
      "|      42650|2022-03-18 13:52:08|     Electronics|          256|       2|                 3548|   Credit Card|          20|    0.0|  Curtis Smith| 20|Female|    0|2022|    3|        6|    19-30|    512|\n",
      "+-----------+-------------------+----------------+-------------+--------+---------------------+--------------+------------+-------+--------------+---+------+-----+----+-----+---------+---------+-------+\n",
      "only showing top 20 rows\n",
      "\n"
     ]
    }
   ],
   "source": [
    "df.show()"
   ]
  }
 ],
 "metadata": {
  "kernelspec": {
   "display_name": "base",
   "language": "python",
   "name": "python3"
  },
  "language_info": {
   "codemirror_mode": {
    "name": "ipython",
    "version": 3
   },
   "file_extension": ".py",
   "mimetype": "text/x-python",
   "name": "python",
   "nbconvert_exporter": "python",
   "pygments_lexer": "ipython3",
   "version": "3.12.4"
  }
 },
 "nbformat": 4,
 "nbformat_minor": 2
}
