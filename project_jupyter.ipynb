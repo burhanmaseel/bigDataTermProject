{
 "cells": [
  {
   "cell_type": "code",
   "execution_count": 14,
   "metadata": {},
   "outputs": [
    {
     "name": "stdout",
     "output_type": "stream",
     "text": [
      "+-----------+-------------------+----------------+-------------+--------+---------------------+--------------+------------+-------+-------------------+---+------+-----+\n",
      "|Customer ID|      Purchase Date|Product Category|Product Price|Quantity|Total Purchase Amount|Payment Method|Customer Age|Returns|      Customer Name|Age|Gender|Churn|\n",
      "+-----------+-------------------+----------------+-------------+--------+---------------------+--------------+------------+-------+-------------------+---+------+-----+\n",
      "|      46251|2020-09-08 09:38:32|     Electronics|           12|       3|                  740|   Credit Card|          37|    0.0|Christine Hernandez| 37|  Male|    0|\n",
      "|      46251|2022-03-05 12:56:35|            Home|          468|       4|                 2739|        PayPal|          37|    0.0|Christine Hernandez| 37|  Male|    0|\n",
      "|      46251|2022-05-23 18:18:01|            Home|          288|       2|                 3196|        PayPal|          37|    0.0|Christine Hernandez| 37|  Male|    0|\n",
      "|      46251|2020-11-12 13:13:29|        Clothing|          196|       1|                 3509|        PayPal|          37|    0.0|Christine Hernandez| 37|  Male|    0|\n",
      "|      13593|2020-11-27 17:55:11|            Home|          449|       1|                 3452|   Credit Card|          49|    0.0|        James Grant| 49|Female|    1|\n",
      "|      13593|2023-03-07 14:17:42|            Home|          250|       4|                  575|        PayPal|          49|    1.0|        James Grant| 49|Female|    1|\n",
      "|      13593|2023-04-15 03:02:33|     Electronics|           73|       1|                 1896|   Credit Card|          49|    0.0|        James Grant| 49|Female|    1|\n",
      "|      13593|2021-03-27 21:23:28|           Books|          337|       2|                 2937|          Cash|          49|    0.0|        James Grant| 49|Female|    1|\n",
      "|      13593|2020-05-05 20:14:00|        Clothing|          182|       2|                 3363|        PayPal|          49|    1.0|        James Grant| 49|Female|    1|\n",
      "|      28805|2023-09-13 04:24:00|     Electronics|          394|       2|                 1993|   Credit Card|          19|    0.0|       Jose Collier| 19|  Male|    0|\n",
      "|      28805|2021-03-31 09:50:57|        Clothing|          366|       1|                  246|        PayPal|          19|    0.0|       Jose Collier| 19|  Male|    0|\n",
      "|      28805|2021-01-18 22:42:24|           Books|          348|       1|                 2682|   Credit Card|          19|    1.0|       Jose Collier| 19|  Male|    0|\n",
      "|      28805|2020-01-07 12:57:35|           Books|          103|       4|                  731|          Cash|          19|    0.0|       Jose Collier| 19|  Male|    0|\n",
      "|      28805|2021-02-12 20:33:20|           Books|          240|       1|                 2563|        PayPal|          19|    0.0|       Jose Collier| 19|  Male|    0|\n",
      "|      28805|2020-07-02 02:54:37|        Clothing|          368|       1|                 1342|   Credit Card|          19|   NULL|       Jose Collier| 19|  Male|    0|\n",
      "|      28961|2021-04-25 23:55:21|           Books|           30|       1|                 4135|        PayPal|          55|   NULL|        James Stein| 55|  Male|    0|\n",
      "|      28961|2020-01-13 09:57:17|           Books|          153|       5|                  698|   Credit Card|          55|    0.0|        James Stein| 55|  Male|    0|\n",
      "|      28961|2023-06-18 21:34:27|        Clothing|          259|       1|                 2975|   Credit Card|          55|    0.0|        James Stein| 55|  Male|    0|\n",
      "|      28961|2021-09-10 00:39:41|           Books|          489|       3|                 2213|   Credit Card|          55|    1.0|        James Stein| 55|  Male|    0|\n",
      "|      28961|2023-06-01 19:07:10|           Books|          232|       3|                 4452|        PayPal|          55|    1.0|        James Stein| 55|  Male|    0|\n",
      "+-----------+-------------------+----------------+-------------+--------+---------------------+--------------+------------+-------+-------------------+---+------+-----+\n",
      "only showing top 20 rows\n",
      "\n",
      "+-----------+-------------+----------------+-------------+--------+---------------------+--------------+------------+-------+-------------+---+------+-----+\n",
      "|Customer ID|Purchase Date|Product Category|Product Price|Quantity|Total Purchase Amount|Payment Method|Customer Age|Returns|Customer Name|Age|Gender|Churn|\n",
      "+-----------+-------------+----------------+-------------+--------+---------------------+--------------+------------+-------+-------------+---+------+-----+\n",
      "|          0|            0|               0|            0|       0|                    0|             0|           0|  47596|            0|  0|     0|    0|\n",
      "+-----------+-------------+----------------+-------------+--------+---------------------+--------------+------------+-------+-------------+---+------+-----+\n",
      "\n",
      "+-----------+-------------------+----------------+-------------+--------+---------------------+--------------+------------+-------+-------------------+---+------+-----+\n",
      "|Customer ID|      Purchase Date|Product Category|Product Price|Quantity|Total Purchase Amount|Payment Method|Customer Age|Returns|      Customer Name|Age|Gender|Churn|\n",
      "+-----------+-------------------+----------------+-------------+--------+---------------------+--------------+------------+-------+-------------------+---+------+-----+\n",
      "|      46251|2020-09-08 09:38:32|     Electronics|           12|       3|                  740|   Credit Card|          37|    0.0|Christine Hernandez| 37|  Male|    0|\n",
      "|      46251|2022-03-05 12:56:35|            Home|          468|       4|                 2739|        PayPal|          37|    0.0|Christine Hernandez| 37|  Male|    0|\n",
      "|      46251|2022-05-23 18:18:01|            Home|          288|       2|                 3196|        PayPal|          37|    0.0|Christine Hernandez| 37|  Male|    0|\n",
      "|      46251|2020-11-12 13:13:29|        Clothing|          196|       1|                 3509|        PayPal|          37|    0.0|Christine Hernandez| 37|  Male|    0|\n",
      "|      13593|2020-11-27 17:55:11|            Home|          449|       1|                 3452|   Credit Card|          49|    0.0|        James Grant| 49|Female|    1|\n",
      "|      13593|2023-03-07 14:17:42|            Home|          250|       4|                  575|        PayPal|          49|    1.0|        James Grant| 49|Female|    1|\n",
      "|      13593|2023-04-15 03:02:33|     Electronics|           73|       1|                 1896|   Credit Card|          49|    0.0|        James Grant| 49|Female|    1|\n",
      "|      13593|2021-03-27 21:23:28|           Books|          337|       2|                 2937|          Cash|          49|    0.0|        James Grant| 49|Female|    1|\n",
      "|      13593|2020-05-05 20:14:00|        Clothing|          182|       2|                 3363|        PayPal|          49|    1.0|        James Grant| 49|Female|    1|\n",
      "|      28805|2023-09-13 04:24:00|     Electronics|          394|       2|                 1993|   Credit Card|          19|    0.0|       Jose Collier| 19|  Male|    0|\n",
      "|      28805|2021-03-31 09:50:57|        Clothing|          366|       1|                  246|        PayPal|          19|    0.0|       Jose Collier| 19|  Male|    0|\n",
      "|      28805|2021-01-18 22:42:24|           Books|          348|       1|                 2682|   Credit Card|          19|    1.0|       Jose Collier| 19|  Male|    0|\n",
      "|      28805|2020-01-07 12:57:35|           Books|          103|       4|                  731|          Cash|          19|    0.0|       Jose Collier| 19|  Male|    0|\n",
      "|      28805|2021-02-12 20:33:20|           Books|          240|       1|                 2563|        PayPal|          19|    0.0|       Jose Collier| 19|  Male|    0|\n",
      "|      28805|2020-07-02 02:54:37|        Clothing|          368|       1|                 1342|   Credit Card|          19|    0.0|       Jose Collier| 19|  Male|    0|\n",
      "|      28961|2021-04-25 23:55:21|           Books|           30|       1|                 4135|        PayPal|          55|    0.0|        James Stein| 55|  Male|    0|\n",
      "|      28961|2020-01-13 09:57:17|           Books|          153|       5|                  698|   Credit Card|          55|    0.0|        James Stein| 55|  Male|    0|\n",
      "|      28961|2023-06-18 21:34:27|        Clothing|          259|       1|                 2975|   Credit Card|          55|    0.0|        James Stein| 55|  Male|    0|\n",
      "|      28961|2021-09-10 00:39:41|           Books|          489|       3|                 2213|   Credit Card|          55|    1.0|        James Stein| 55|  Male|    0|\n",
      "|      28961|2023-06-01 19:07:10|           Books|          232|       3|                 4452|        PayPal|          55|    1.0|        James Stein| 55|  Male|    0|\n",
      "+-----------+-------------------+----------------+-------------+--------+---------------------+--------------+------------+-------+-------------------+---+------+-----+\n",
      "only showing top 20 rows\n",
      "\n",
      "+-----------+-------------+----------------+-------------+--------+---------------------+--------------+------------+-------+-------------+---+------+-----+\n",
      "|Customer ID|Purchase Date|Product Category|Product Price|Quantity|Total Purchase Amount|Payment Method|Customer Age|Returns|Customer Name|Age|Gender|Churn|\n",
      "+-----------+-------------+----------------+-------------+--------+---------------------+--------------+------------+-------+-------------+---+------+-----+\n",
      "|          0|            0|               0|            0|       0|                    0|             0|           0|      0|            0|  0|     0|    0|\n",
      "+-----------+-------------+----------------+-------------+--------+---------------------+--------------+------------+-------+-------------+---+------+-----+\n",
      "\n"
     ]
    }
   ],
   "source": [
    "import pyspark\n",
    "from pyspark.sql import SparkSession\n",
    "import seaborn as sns\n",
    "import pandas as pd\n",
    "\n",
    "\n",
    "# Initialize Spark session\n",
    "spark = SparkSession.builder \\\n",
    "    .appName(\"MyApp\") \\\n",
    "    .getOrCreate()\n",
    "\n",
    "# Read CSV file into DataFrame\n",
    "df = spark.read.csv(\"./ecommerce_customer_data_custom_ratios/ecommerce_customer_data_custom_ratios.csv\", header=True, inferSchema=True)\n",
    "\n",
    "# Show the DataFrame\n",
    "df.show()\n",
    "\n",
    "# Check for null values in the DataFrame\n",
    "null_counts = df.select([pyspark.sql.functions.count(pyspark.sql.functions.when(pyspark.sql.functions.col(c).isNull(), c)).alias(c) for c in df.columns])\n",
    "null_counts.show()\n",
    "\n",
    "# Replace null values in the 'Returns' column with 0\n",
    "df = df.fillna({'Returns': 0})\n",
    "\n",
    "# Show the updated DataFrame\n",
    "df.show()\n",
    "\n",
    "# Check for null values in the DataFrame\n",
    "null_counts = df.select([pyspark.sql.functions.count(pyspark.sql.functions.when(pyspark.sql.functions.col(c).isNull(), c)).alias(c) for c in df.columns])\n",
    "null_counts.show()"
   ]
  },
  {
   "cell_type": "code",
   "execution_count": 15,
   "metadata": {},
   "outputs": [
    {
     "name": "stdout",
     "output_type": "stream",
     "text": [
      "Correlation between Churn and Year: 0.003465300430301534\n",
      "Correlation between Churn and Month: -0.0005727856019225997\n",
      "Correlation between Churn and Day: 0.003399072189347331\n",
      "Correlation between Churn and DayOfWeek: 0.0017228742396081667\n"
     ]
    }
   ],
   "source": [
    "from pyspark.sql.functions import year, month, dayofmonth, dayofweek\n",
    "\n",
    "# Extract date components\n",
    "df = df.withColumn('Year', year(df['Purchase Date']))\n",
    "df = df.withColumn('Month', month(df['Purchase Date']))\n",
    "df = df.withColumn('Day', dayofmonth(df['Purchase Date']))\n",
    "df = df.withColumn('DayOfWeek', dayofweek(df['Purchase Date']))\n",
    "\n",
    "# Calculate correlations\n",
    "correlations = {}\n",
    "for col in ['Year', 'Month', 'Day', 'DayOfWeek']:\n",
    "    correlations[col] = df.stat.corr('Churn', col)\n",
    "\n",
    "# Show correlations\n",
    "for col, corr_value in correlations.items():\n",
    "    print(f\"Correlation between Churn and {col}: {corr_value}\")"
   ]
  },
  {
   "cell_type": "code",
   "execution_count": null,
   "metadata": {},
   "outputs": [],
   "source": [
    "from pyspark.sql.functions import corr\n",
    "\n",
    "categorical_columns = [\"Product Category\", \"Payment Method\", \"Gender\", \"Returns\"]\n",
    "continuous_columns = [\"Product Price\", \"Quantity\", \"Total Purchase Amount\", \"Customer Age\", \"Age\"]\n",
    "date_columns = [\"Year\", \"Month\", \"Day\", \"DayOfWeek\"]\n",
    "\n"
   ]
  },
  {
   "cell_type": "markdown",
   "metadata": {},
   "source": []
  }
 ],
 "metadata": {
  "kernelspec": {
   "display_name": "Python 3",
   "language": "python",
   "name": "python3"
  },
  "language_info": {
   "codemirror_mode": {
    "name": "ipython",
    "version": 3
   },
   "file_extension": ".py",
   "mimetype": "text/x-python",
   "name": "python",
   "nbconvert_exporter": "python",
   "pygments_lexer": "ipython3",
   "version": "3.12.7"
  }
 },
 "nbformat": 4,
 "nbformat_minor": 2
}
